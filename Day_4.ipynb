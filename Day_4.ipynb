{
 "cells": [
  {
   "cell_type": "markdown",
   "id": "5a3df700-1280-4e04-8a2f-c5c6e7e9d662",
   "metadata": {},
   "source": [
    "## **Python Class on Control Flow:**"
   ]
  },
  {
   "cell_type": "code",
   "execution_count": 1,
   "id": "f3df6037-a3ed-45c8-8ae9-6a3621346800",
   "metadata": {},
   "outputs": [],
   "source": [
    "num = 10\n",
    "if num == 12:\n",
    "    print(\"Hello There....!\")"
   ]
  },
  {
   "cell_type": "code",
   "execution_count": 3,
   "id": "2e3a26ae-34d4-4ddc-9c09-12ea002f2341",
   "metadata": {},
   "outputs": [
    {
     "name": "stdin",
     "output_type": "stream",
     "text": [
      "Enter your name abhi\n"
     ]
    },
    {
     "ename": "ValueError",
     "evalue": "invalid literal for int() with base 10: 'abhi'",
     "output_type": "error",
     "traceback": [
      "\u001b[1;31m---------------------------------------------------------------------------\u001b[0m",
      "\u001b[1;31mValueError\u001b[0m                                Traceback (most recent call last)",
      "Cell \u001b[1;32mIn[3], line 1\u001b[0m\n\u001b[1;32m----> 1\u001b[0m a \u001b[38;5;241m=\u001b[39m \u001b[38;5;28mint\u001b[39m(\u001b[38;5;28minput\u001b[39m(\u001b[38;5;124m\"\u001b[39m\u001b[38;5;124mEnter your name\u001b[39m\u001b[38;5;124m\"\u001b[39m))\n\u001b[0;32m      2\u001b[0m c\u001b[38;5;241m=\u001b[39m a \u001b[38;5;241m+\u001b[39m \u001b[38;5;241m10\u001b[39m\n\u001b[0;32m      3\u001b[0m \u001b[38;5;28mprint\u001b[39m(c)\n",
      "\u001b[1;31mValueError\u001b[0m: invalid literal for int() with base 10: 'abhi'"
     ]
    }
   ],
   "source": [
    "a = int(input(\"Enter your name\"))\n",
    "c= a + 10\n",
    "print(c)"
   ]
  },
  {
   "cell_type": "code",
   "execution_count": 5,
   "id": "29d6fb86-62c4-4d2d-a211-308c1d3d5dbd",
   "metadata": {},
   "outputs": [
    {
     "name": "stdout",
     "output_type": "stream",
     "text": [
      "The number is equal\n"
     ]
    }
   ],
   "source": [
    "num = 12\n",
    "if num == 12:\n",
    "    print(\"The number is equal\")\n",
    "elif num <= 12:\n",
    "    print(\"The number is not equal\")\n",
    "else:\n",
    "    print(\"None of the above statement is True\")"
   ]
  },
  {
   "cell_type": "code",
   "execution_count": 7,
   "id": "ba603e64-c1a8-4908-b5a0-4d9e98c4eecd",
   "metadata": {},
   "outputs": [
    {
     "name": "stdin",
     "output_type": "stream",
     "text": [
      "Enter a number:  45\n"
     ]
    },
    {
     "name": "stdout",
     "output_type": "stream",
     "text": [
      "Positive number\n"
     ]
    }
   ],
   "source": [
    "number = int(input('Enter a number: '))\n",
    "\n",
    "if number > 0:\n",
    "    print('Positive number')\n",
    "else:\n",
    "    print('Not a positive number')"
   ]
  },
  {
   "cell_type": "code",
   "execution_count": 9,
   "id": "43b69886-36bf-4638-b0b4-14e970ff65ba",
   "metadata": {},
   "outputs": [
    {
     "name": "stdout",
     "output_type": "stream",
     "text": [
      "You got a 'B' on the exam.\n"
     ]
    }
   ],
   "source": [
    "grade = 85\n",
    "\n",
    "if grade >= 90:\n",
    "    print(\"You got an 'A' on the exam.\")\n",
    "elif grade >= 80:\n",
    "    print(\"You got a 'B' on the exam.\")\n",
    "elif grade >= 70:\n",
    "    print(\"You got a 'C' on the exam.\")\n",
    "elif grade >= 60:\n",
    "    print(\"You got a 'D' on the exam.\")\n",
    "else:\n",
    "    print(\"You got an 'F' on the exam.\")"
   ]
  },
  {
   "cell_type": "code",
   "execution_count": null,
   "id": "f7fed4d9-bd8c-4d64-944b-922cc87027a9",
   "metadata": {},
   "outputs": [],
   "source": []
  },
  {
   "cell_type": "code",
   "execution_count": 12,
   "id": "a34a999b-231c-462d-864f-dbe83b2df6a3",
   "metadata": {},
   "outputs": [
    {
     "data": {
      "text/plain": [
       "0"
      ]
     },
     "execution_count": 12,
     "metadata": {},
     "output_type": "execute_result"
    }
   ],
   "source": [
    "int()"
   ]
  },
  {
   "cell_type": "code",
   "execution_count": 14,
   "id": "c34016bb-efe6-4122-a7b3-61d4721a9175",
   "metadata": {},
   "outputs": [
    {
     "data": {
      "text/plain": [
       "0.0"
      ]
     },
     "execution_count": 14,
     "metadata": {},
     "output_type": "execute_result"
    }
   ],
   "source": [
    "float()"
   ]
  },
  {
   "cell_type": "code",
   "execution_count": 16,
   "id": "7f177a1d-1bd4-45f7-bcbd-530289eb4a29",
   "metadata": {},
   "outputs": [
    {
     "data": {
      "text/plain": [
       "''"
      ]
     },
     "execution_count": 16,
     "metadata": {},
     "output_type": "execute_result"
    }
   ],
   "source": [
    "str()"
   ]
  },
  {
   "cell_type": "code",
   "execution_count": 18,
   "id": "c4f04f2b-d01d-489e-8cb4-f6ed7948bd0e",
   "metadata": {},
   "outputs": [
    {
     "data": {
      "text/plain": [
       "False"
      ]
     },
     "execution_count": 18,
     "metadata": {},
     "output_type": "execute_result"
    }
   ],
   "source": [
    "bool()"
   ]
  },
  {
   "cell_type": "code",
   "execution_count": 20,
   "id": "26e9ce5e-7c45-4377-89f9-99fc255a9e65",
   "metadata": {},
   "outputs": [],
   "source": [
    "myString = \"Abhishek\"\n",
    "myNumber = 123.5"
   ]
  },
  {
   "cell_type": "code",
   "execution_count": 22,
   "id": "f1937074-38ef-4ccd-863b-ace44d301c4e",
   "metadata": {},
   "outputs": [
    {
     "data": {
      "text/plain": [
       "str"
      ]
     },
     "execution_count": 22,
     "metadata": {},
     "output_type": "execute_result"
    }
   ],
   "source": [
    "type(myString)"
   ]
  },
  {
   "cell_type": "code",
   "execution_count": 24,
   "id": "e58898b7-fae1-433d-b52d-d8325ec95038",
   "metadata": {},
   "outputs": [
    {
     "data": {
      "text/plain": [
       "'A'"
      ]
     },
     "execution_count": 24,
     "metadata": {},
     "output_type": "execute_result"
    }
   ],
   "source": [
    "myString[0]"
   ]
  },
  {
   "cell_type": "code",
   "execution_count": 26,
   "id": "6dfee430-d751-41d7-951f-ddcfbc814778",
   "metadata": {},
   "outputs": [
    {
     "name": "stdin",
     "output_type": "stream",
     "text": [
      "What is your grade 5\n"
     ]
    },
    {
     "ename": "TypeError",
     "evalue": "unsupported operand type(s) for &: 'int' and 'float'",
     "output_type": "error",
     "traceback": [
      "\u001b[1;31m---------------------------------------------------------------------------\u001b[0m",
      "\u001b[1;31mTypeError\u001b[0m                                 Traceback (most recent call last)",
      "Cell \u001b[1;32mIn[26], line 4\u001b[0m\n\u001b[0;32m      2\u001b[0m \u001b[38;5;28;01mif\u001b[39;00m \u001b[38;5;28mint\u001b[39m(W)\u001b[38;5;241m>\u001b[39m\u001b[38;5;241m=\u001b[39m\u001b[38;5;28mint\u001b[39m(\u001b[38;5;241m6.5\u001b[39m):\n\u001b[0;32m      3\u001b[0m  \u001b[38;5;28mprint\u001b[39m(\u001b[38;5;124m\"\u001b[39m\u001b[38;5;124mQualified\u001b[39m\u001b[38;5;124m\"\u001b[39m)\n\u001b[1;32m----> 4\u001b[0m \u001b[38;5;28;01melif\u001b[39;00m W\u001b[38;5;241m>\u001b[39m\u001b[38;5;241m=\u001b[39m\u001b[38;5;241m3\u001b[39m \u001b[38;5;241m&\u001b[39m W\u001b[38;5;241m<\u001b[39m\u001b[38;5;241m6.5\u001b[39m:\n\u001b[0;32m      5\u001b[0m  \u001b[38;5;28mprint\u001b[39m(\u001b[38;5;124m\"\u001b[39m\u001b[38;5;124mWaiting List\u001b[39m\u001b[38;5;124m\"\u001b[39m)\n\u001b[0;32m      6\u001b[0m \u001b[38;5;28;01melse\u001b[39;00m:\n",
      "\u001b[1;31mTypeError\u001b[0m: unsupported operand type(s) for &: 'int' and 'float'"
     ]
    }
   ],
   "source": [
    "W= float(input(\"What is your grade\"))\n",
    "if int(W)>=int(6.5):\n",
    " print(\"Qualified\")\n",
    "elif W>=3 & W<6.5:\n",
    " print(\"Waiting List\")\n",
    "else:\n",
    "    print(\"Not Qualified\")"
   ]
  },
  {
   "cell_type": "code",
   "execution_count": 28,
   "id": "dfa4b8a3-7698-4946-8bf1-fea1cef0c1b2",
   "metadata": {},
   "outputs": [
    {
     "name": "stdout",
     "output_type": "stream",
     "text": [
      "This is a Number: 12, <class 'int'> \n"
     ]
    }
   ],
   "source": [
    "name = 12\n",
    "\n",
    "if type(name) == int:\n",
    "    print(f'This is a Number: {name}, {type(name)} ')\n",
    "else:\n",
    "    print(f'The type is not integer: {type(name)}')"
   ]
  },
  {
   "cell_type": "code",
   "execution_count": 30,
   "id": "c3455764-c054-4607-97ae-cb2c36f38b2e",
   "metadata": {},
   "outputs": [
    {
     "data": {
      "text/plain": [
       "int"
      ]
     },
     "execution_count": 30,
     "metadata": {},
     "output_type": "execute_result"
    }
   ],
   "source": [
    "type(name)"
   ]
  },
  {
   "cell_type": "code",
   "execution_count": null,
   "id": "66b9623b-70ca-48aa-90ea-5bbf631106e6",
   "metadata": {},
   "outputs": [],
   "source": []
  },
  {
   "cell_type": "code",
   "execution_count": 33,
   "id": "87de8f9c-3959-43f3-bed4-dd4c2961cc88",
   "metadata": {},
   "outputs": [
    {
     "name": "stdout",
     "output_type": "stream",
     "text": [
      "My name is : Abhishek\n"
     ]
    }
   ],
   "source": [
    "name = \"Abhishek\"\n",
    "print(f'My name is : {name}')"
   ]
  },
  {
   "cell_type": "code",
   "execution_count": 37,
   "id": "e9fe0134-da19-4fe3-bcbc-95e0d80a0d7e",
   "metadata": {},
   "outputs": [
    {
     "name": "stdin",
     "output_type": "stream",
     "text": [
      " \n"
     ]
    },
    {
     "data": {
      "text/plain": [
       "0"
      ]
     },
     "execution_count": 37,
     "metadata": {},
     "output_type": "execute_result"
    }
   ],
   "source": [
    "input()\n",
    "int()"
   ]
  },
  {
   "cell_type": "code",
   "execution_count": 39,
   "id": "58fbcea7-3b9e-4788-96d9-dc77a3491184",
   "metadata": {},
   "outputs": [
    {
     "data": {
      "text/plain": [
       "'Abhishek'"
      ]
     },
     "execution_count": 39,
     "metadata": {},
     "output_type": "execute_result"
    }
   ],
   "source": [
    "String = \"Abhishek\"\n",
    "\n",
    "String[0:8]"
   ]
  },
  {
   "cell_type": "code",
   "execution_count": 41,
   "id": "7adaacb6-b2cc-4bb9-b367-b7ce3645739e",
   "metadata": {},
   "outputs": [
    {
     "data": {
      "text/plain": [
       "'shek'"
      ]
     },
     "execution_count": 41,
     "metadata": {},
     "output_type": "execute_result"
    }
   ],
   "source": [
    "String[4:8]"
   ]
  },
  {
   "cell_type": "code",
   "execution_count": 43,
   "id": "c616ac71-6d93-4278-9dc7-196b59cd33e7",
   "metadata": {},
   "outputs": [
    {
     "data": {
      "text/plain": [
       "'Abhishek'"
      ]
     },
     "execution_count": 43,
     "metadata": {},
     "output_type": "execute_result"
    }
   ],
   "source": [
    "String"
   ]
  },
  {
   "cell_type": "code",
   "execution_count": 45,
   "id": "2aad0d12-cab1-42dc-8903-4fef715b7dcf",
   "metadata": {},
   "outputs": [
    {
     "data": {
      "text/plain": [
       "'Aie'"
      ]
     },
     "execution_count": 45,
     "metadata": {},
     "output_type": "execute_result"
    }
   ],
   "source": [
    "String[0::3]"
   ]
  },
  {
   "cell_type": "code",
   "execution_count": 47,
   "id": "ebf6d482-3acc-4643-8360-3660b98df61a",
   "metadata": {},
   "outputs": [
    {
     "data": {
      "text/plain": [
       "'Abhishek'"
      ]
     },
     "execution_count": 47,
     "metadata": {},
     "output_type": "execute_result"
    }
   ],
   "source": [
    "String"
   ]
  },
  {
   "cell_type": "code",
   "execution_count": 49,
   "id": "b55771d7-a8de-4ba2-bb6b-a33ce88670b7",
   "metadata": {},
   "outputs": [],
   "source": [
    "list = [1,2,3,4]"
   ]
  },
  {
   "cell_type": "code",
   "execution_count": 51,
   "id": "9ae2bf04-b606-44f0-a758-d6724db1b145",
   "metadata": {},
   "outputs": [
    {
     "data": {
      "text/plain": [
       "[1, 2, 3, 4]"
      ]
     },
     "execution_count": 51,
     "metadata": {},
     "output_type": "execute_result"
    }
   ],
   "source": [
    "list[0:5]"
   ]
  },
  {
   "cell_type": "code",
   "execution_count": 53,
   "id": "773a7aac-b4fd-4734-8a96-649c2801dfef",
   "metadata": {},
   "outputs": [
    {
     "data": {
      "text/plain": [
       "[1, 3]"
      ]
     },
     "execution_count": 53,
     "metadata": {},
     "output_type": "execute_result"
    }
   ],
   "source": [
    "list[0:5:2]"
   ]
  },
  {
   "cell_type": "code",
   "execution_count": 55,
   "id": "16f69681-8be2-4d3e-9434-2bde8b99dda0",
   "metadata": {},
   "outputs": [
    {
     "data": {
      "text/plain": [
       "4"
      ]
     },
     "execution_count": 55,
     "metadata": {},
     "output_type": "execute_result"
    }
   ],
   "source": [
    "list[-1]"
   ]
  },
  {
   "cell_type": "code",
   "execution_count": 57,
   "id": "b07cb324-35f9-43d4-80b0-8fc25f0a3b33",
   "metadata": {},
   "outputs": [
    {
     "data": {
      "text/plain": [
       "'Ahse'"
      ]
     },
     "execution_count": 57,
     "metadata": {},
     "output_type": "execute_result"
    }
   ],
   "source": [
    "String[0:8:2]"
   ]
  },
  {
   "cell_type": "code",
   "execution_count": 59,
   "id": "3831c77d-d8bb-45db-b5cc-52b5d1cb4384",
   "metadata": {},
   "outputs": [
    {
     "data": {
      "text/plain": [
       "'Aie'"
      ]
     },
     "execution_count": 59,
     "metadata": {},
     "output_type": "execute_result"
    }
   ],
   "source": [
    "String[0:8:3]"
   ]
  },
  {
   "cell_type": "code",
   "execution_count": 61,
   "id": "1b817e86-caf9-49d5-9ae5-7213be86e6db",
   "metadata": {},
   "outputs": [
    {
     "data": {
      "text/plain": [
       "'Abhishek'"
      ]
     },
     "execution_count": 61,
     "metadata": {},
     "output_type": "execute_result"
    }
   ],
   "source": [
    "String"
   ]
  },
  {
   "cell_type": "code",
   "execution_count": 63,
   "id": "7cbcc640-353a-421b-b2a7-7d77b2708dab",
   "metadata": {},
   "outputs": [
    {
     "data": {
      "text/plain": [
       "'Ahse'"
      ]
     },
     "execution_count": 63,
     "metadata": {},
     "output_type": "execute_result"
    }
   ],
   "source": [
    "String[0:8:2]"
   ]
  },
  {
   "cell_type": "code",
   "execution_count": 65,
   "id": "9a61e53c-0eb9-41d6-a665-69928811d4c3",
   "metadata": {},
   "outputs": [
    {
     "data": {
      "text/plain": [
       "123.5"
      ]
     },
     "execution_count": 65,
     "metadata": {},
     "output_type": "execute_result"
    }
   ],
   "source": [
    "myNumber"
   ]
  },
  {
   "cell_type": "code",
   "execution_count": 67,
   "id": "f29619b2-6689-477d-9e00-95a2947f8e64",
   "metadata": {},
   "outputs": [
    {
     "data": {
      "text/plain": [
       "int"
      ]
     },
     "execution_count": 67,
     "metadata": {},
     "output_type": "execute_result"
    }
   ],
   "source": [
    "a = int(myNumber)\n",
    "type(a)"
   ]
  },
  {
   "cell_type": "code",
   "execution_count": 69,
   "id": "e0aafb7b-7cb3-4f2d-9daa-16bf30678aeb",
   "metadata": {},
   "outputs": [
    {
     "data": {
      "text/plain": [
       "float"
      ]
     },
     "execution_count": 69,
     "metadata": {},
     "output_type": "execute_result"
    }
   ],
   "source": [
    "type(myNumber)"
   ]
  },
  {
   "cell_type": "code",
   "execution_count": 71,
   "id": "1d6411d7-8e97-49cf-a1d2-0f7922008e72",
   "metadata": {},
   "outputs": [],
   "source": [
    "my_int_number = 12\n",
    "c = float(my_int_number)"
   ]
  },
  {
   "cell_type": "code",
   "execution_count": 73,
   "id": "1cedf3f0-8aa8-41fe-aa6d-16a1156cabc1",
   "metadata": {},
   "outputs": [
    {
     "data": {
      "text/plain": [
       "float"
      ]
     },
     "execution_count": 73,
     "metadata": {},
     "output_type": "execute_result"
    }
   ],
   "source": [
    "type(c)"
   ]
  },
  {
   "cell_type": "code",
   "execution_count": 75,
   "id": "3d0eb503-8ee1-44ab-aec8-909fc73089c8",
   "metadata": {},
   "outputs": [
    {
     "data": {
      "text/plain": [
       "136.0"
      ]
     },
     "execution_count": 75,
     "metadata": {},
     "output_type": "execute_result"
    }
   ],
   "source": [
    "124 + c"
   ]
  },
  {
   "cell_type": "markdown",
   "id": "d556b944-0111-43fd-90fc-40614d7a65ac",
   "metadata": {},
   "source": [
    "## Conditional Statements"
   ]
  },
  {
   "cell_type": "markdown",
   "id": "67527cc5-b002-4003-936a-137c5c5ab189",
   "metadata": {},
   "source": [
    "#### **1. What is **if** Statement ?**\n",
    "\n",
    "**if** statment evalutes the condition and executes the block of code.\n",
    "\n",
    "```python\n",
    "    if condition:\n",
    "         # code to execute if condition is True```\n",
    "\n"
   ]
  },
  {
   "cell_type": "code",
   "execution_count": 79,
   "id": "214e8be4-8393-4be9-8504-71117a698973",
   "metadata": {},
   "outputs": [
    {
     "name": "stdout",
     "output_type": "stream",
     "text": [
      "You can Vote...!\n"
     ]
    }
   ],
   "source": [
    "## Example using if: \n",
    "age = 18\n",
    "\n",
    "if age>=18:\n",
    "    print(\"You can Vote...!\")"
   ]
  },
  {
   "cell_type": "markdown",
   "id": "ec1b901f-6443-4816-bb77-83df6c543b89",
   "metadata": {},
   "source": [
    "#### **2. What is **else** Statement ?**\n",
    "\n",
    "**else** statment executes a block of code if the condition in the if statement is False.\n",
    "\n",
    "```python\n",
    "if condition:\r\n",
    "    # code to execute if condition is True\r\n",
    "else:\r\n",
    "    # code to execute if condition is Falserue\n",
    "```"
   ]
  },
  {
   "cell_type": "code",
   "execution_count": 82,
   "id": "8c58ec87-d9db-4a4d-a849-72d02234700d",
   "metadata": {},
   "outputs": [
    {
     "name": "stdout",
     "output_type": "stream",
     "text": [
      "Your are not eligible to Vote...!\n"
     ]
    }
   ],
   "source": [
    "## Example using if & else statment: \n",
    "age = 16\n",
    "\n",
    "if age>=18:\n",
    "    print(\"You can Vote...!\")\n",
    "else:\n",
    "    print(\"Your are not eligible to Vote...!\")"
   ]
  },
  {
   "cell_type": "markdown",
   "id": "acd44c57-9b9b-47f7-be6d-02138a8b97d8",
   "metadata": {},
   "source": [
    "#### **3. What is **elif** Statement ?**\n",
    "\n",
    "**elif** statment is also stands as **else if**\n",
    "\n",
    "**elif** statment allows you to check multiple conditions.\n",
    "\n",
    "```python\n",
    "if condition1:\r\n",
    "    # code to execute if condition1 is True\r\n",
    "elif condition2:\r\n",
    "    # code to execute if condition2 is Trlse\n",
    "```"
   ]
  },
  {
   "cell_type": "code",
   "execution_count": 85,
   "id": "e8c99967-974f-4863-8186-84f449be6f18",
   "metadata": {},
   "outputs": [
    {
     "name": "stdout",
     "output_type": "stream",
     "text": [
      "You can Vote...!\n"
     ]
    }
   ],
   "source": [
    "## Example using if & elif Statement\n",
    "age = 20\n",
    "\n",
    "if age>=18:\n",
    "    print(\"You can Vote...!\")\n",
    "elif age<18:\n",
    "    print(\"Your are not a Adult...!\")"
   ]
  },
  {
   "cell_type": "code",
   "execution_count": 87,
   "id": "0061b8e4-e16b-406a-b8f4-8913ef78ea96",
   "metadata": {},
   "outputs": [
    {
     "name": "stdout",
     "output_type": "stream",
     "text": [
      "You have turned: 18\n"
     ]
    }
   ],
   "source": [
    "## Example using if, elif & else Statement\n",
    "\n",
    "age = 18\n",
    "\n",
    "if age>18:\n",
    "    print(\"You can Vote...!\")\n",
    "elif age<18:\n",
    "    print(\"Your are not a Adult...!\")\n",
    "else:\n",
    "    print(f'You have turned: {age}')"
   ]
  },
  {
   "cell_type": "markdown",
   "id": "02a129be-a3ac-4211-9549-2a709199baf5",
   "metadata": {},
   "source": [
    "### **4. Nested Conditional Statement**"
   ]
  },
  {
   "cell_type": "markdown",
   "id": "aa08e154-2512-4e2b-80a8-f515dab969c1",
   "metadata": {},
   "source": [
    "**Overview:**\n",
    "  \n",
    "**To Create Nested Conditional Statement you can place if, elif, else statments inside another if, elif, else statments**"
   ]
  },
  {
   "cell_type": "markdown",
   "id": "b5af9941-5901-4d09-83c9-2b3f8cc1244a",
   "metadata": {},
   "source": [
    "```python\n",
    "if condition1:\n",
    "    # Code block executed if condition1 is True\n",
    "    if condition2:\n",
    "        # Code block executed if condition1 and condition2 are both True\n",
    "    elif condition3:\n",
    "        # Code block executed if condition1 is True and condition3 is True\n",
    "    else:\n",
    "        # Code block executed if condition1 is True and neither condition2 nor condition3 are True\n",
    "elif condition4:\n",
    "    # Code block executed if condition1 is False and condition4 is True\n",
    "    if condition5:\n",
    "        # Code block executed if condition1 is False, condition4 is True, and condition5 is True\n",
    "    else:\n",
    "        # Code block executed if condition1 is False, condition4 is True, and condition5 is False\n",
    "else:\n",
    "    # Code block executed if condition1 and condition4 are both False\n",
    "```"
   ]
  },
  {
   "cell_type": "code",
   "execution_count": 92,
   "id": "b8c80da1-2ddb-41f2-9793-2dec3d833ded",
   "metadata": {},
   "outputs": [
    {
     "name": "stdout",
     "output_type": "stream",
     "text": [
      "The number is positive\n",
      "The number is Even\n"
     ]
    }
   ],
   "source": [
    "num = 14\n",
    "if num>=0:\n",
    "    print(\"The number is positive\")\n",
    "    if num%2==0:\n",
    "        print(\"The number is Even\")\n",
    "    else:\n",
    "        print(\"The number is Odd\")\n",
    "else:\n",
    "    print(\"The number is negative\")"
   ]
  },
  {
   "cell_type": "code",
   "execution_count": 94,
   "id": "461fbcab-6098-42ef-9b1e-ff0364ac6a6a",
   "metadata": {},
   "outputs": [
    {
     "name": "stdin",
     "output_type": "stream",
     "text": [
      "Enter the first number:  5\n",
      "Enter the operator (+, -, *, /):  +\n",
      "Enter the second number:  5\n"
     ]
    },
    {
     "name": "stdout",
     "output_type": "stream",
     "text": [
      "10.0\n"
     ]
    }
   ],
   "source": [
    "# Simple Calulator\n",
    "# Get user input for the first number, operator, and second number\n",
    "num1 = float(input(\"Enter the first number: \"))\n",
    "operator = input(\"Enter the operator (+, -, *, /): \")\n",
    "num2 = float(input(\"Enter the second number: \"))\n",
    "\n",
    "# Perform the calculation based on the operator\n",
    "if operator == '+':\n",
    "    result = num1 + num2\n",
    "    print(result)\n",
    "elif operator == '-':\n",
    "    result = num1 - num2\n",
    "    print(result)\n",
    "elif operator == '*':\n",
    "    result = num1 * num2\n",
    "    print(result)\n",
    "elif operator == '/':\n",
    "    # Check if the second number is zero to avoid division by zero\n",
    "    if num2 != 0:\n",
    "        result = num1 / num2\n",
    "        print(result)\n",
    "    else:\n",
    "        print(\"Error: Division by zero is not allowed.\")\n",
    "else:\n",
    "    print(\"Error: Invalid operator.\")"
   ]
  },
  {
   "cell_type": "code",
   "execution_count": 284,
   "id": "71854362-59d8-4297-b593-b2530990db4e",
   "metadata": {},
   "outputs": [],
   "source": [
    "# Program to check whether the year is Leap Year or Not"
   ]
  },
  {
   "cell_type": "code",
   "execution_count": 98,
   "id": "97746ad9-20cc-4074-8568-7b65ce483e03",
   "metadata": {},
   "outputs": [
    {
     "name": "stdin",
     "output_type": "stream",
     "text": [
      "Enter the Year 2001\n"
     ]
    },
    {
     "name": "stdout",
     "output_type": "stream",
     "text": [
      "2001 is Not a Leap Year\n"
     ]
    }
   ],
   "source": [
    "year = int(input(\"Enter the Year\"))\n",
    "\n",
    "if(year % 4) == 0:\n",
    "    if year % 100 == 0:\n",
    "        if year % 400 == 0:\n",
    "            print(f'{year} is a Leap Year')\n",
    "        else:\n",
    "            print(f'{year} is Not a Leap Year')\n",
    "    else:\n",
    "        print(f'{year} is a Leap Year')\n",
    "else:\n",
    "    print(f'{year} is Not a Leap Year')"
   ]
  },
  {
   "cell_type": "code",
   "execution_count": 100,
   "id": "117aff3c-7dec-493f-a4f0-6e1ef32d3049",
   "metadata": {},
   "outputs": [
    {
     "name": "stdin",
     "output_type": "stream",
     "text": [
      "Enter a number:  2\n"
     ]
    },
    {
     "name": "stdout",
     "output_type": "stream",
     "text": [
      "2 is even.\n"
     ]
    }
   ],
   "source": [
    "# Get user input for the number\n",
    "number = int(input(\"Enter a number: \"))\n",
    "\n",
    "# Check if the number is even or odd\n",
    "if number % 2 == 0:\n",
    "    print(f\"{number} is even.\")\n",
    "else:\n",
    "    print(f\"{number} is odd.\")\n"
   ]
  },
  {
   "cell_type": "markdown",
   "id": "c59d0001-6dea-4a18-aa4a-90ac9d7c58c4",
   "metadata": {},
   "source": [
    "### **Q1. Determine if a Number is Positive, Negative, or Zero using Conditional Statments ?**"
   ]
  },
  {
   "cell_type": "code",
   "execution_count": 102,
   "id": "1f1833c6-2ec6-4ce9-b859-d0b0f0faf8ae",
   "metadata": {},
   "outputs": [
    {
     "name": "stdin",
     "output_type": "stream",
     "text": [
      "Enter a number:  1\n"
     ]
    },
    {
     "name": "stdout",
     "output_type": "stream",
     "text": [
      "The number is positive.\n"
     ]
    }
   ],
   "source": [
    "# Get user input for the number\n",
    "number = float(input(\"Enter a number: \"))\n",
    "\n",
    "# Classify the number\n",
    "if number > 0:\n",
    "    print(\"The number is positive.\")\n",
    "elif number < 0:\n",
    "    print(\"The number is negative.\")\n",
    "else:\n",
    "    print(\"The number is zero.\")\n"
   ]
  },
  {
   "cell_type": "markdown",
   "id": "0e662ea8-8079-4326-8a15-7a59a0f9293f",
   "metadata": {},
   "source": [
    "### Q2. **Leap Year Checker**\n",
    "**Description:**\n",
    "\n",
    "Create a program to check if a year is a leap year based on the following rules:\n",
    "\n",
    "A year is a leap year if it is divisible by 4.\n",
    "However, if the year is also divisible by 100, it is not a leap year unless it is also divisible by 400."
   ]
  },
  {
   "cell_type": "code",
   "execution_count": 104,
   "id": "2e7b6391-3f07-4c24-a0ee-0ef5d8914a2d",
   "metadata": {},
   "outputs": [
    {
     "name": "stdin",
     "output_type": "stream",
     "text": [
      "Enter a year:  2001\n"
     ]
    },
    {
     "name": "stdout",
     "output_type": "stream",
     "text": [
      "2001 is not a leap year.\n"
     ]
    }
   ],
   "source": [
    "# Get user input for the year\n",
    "year = int(input(\"Enter a year: \"))\n",
    "\n",
    "# Check if the year is a leap year\n",
    "if (year % 4 == 0 and year % 100 != 0) or (year % 400 == 0):\n",
    "    print(f\"{year} is a leap year.\")\n",
    "else:\n",
    "    print(f\"{year} is not a leap year.\")\n"
   ]
  },
  {
   "cell_type": "markdown",
   "id": "d054fad2-c905-4306-a1c5-dc9f79e37813",
   "metadata": {},
   "source": [
    "### **Length Function**"
   ]
  },
  {
   "cell_type": "markdown",
   "id": "ad128d80-7f58-44c3-a154-8f4c5fd9b34f",
   "metadata": {},
   "source": [
    "### **Q3. Password Strength Checker**"
   ]
  },
  {
   "cell_type": "markdown",
   "id": "89def3a9-fe7a-438b-87d4-b501aa98a756",
   "metadata": {},
   "source": [
    "**Description:**\n",
    "\n",
    "Write a program to check the strength of a password based on the following criteria:\n",
    "\n",
    "- Weak: Less than 6 characters\n",
    "- Moderate: Between 6 and 12 characters\n",
    "- Strong: More than 12 characters"
   ]
  },
  {
   "cell_type": "code",
   "execution_count": 106,
   "id": "c890279f-71ed-4bdb-a6d5-94100dd524d7",
   "metadata": {},
   "outputs": [
    {
     "name": "stdin",
     "output_type": "stream",
     "text": [
      "Enter your password:  abhishekjhaiodh\n"
     ]
    },
    {
     "name": "stdout",
     "output_type": "stream",
     "text": [
      "Your password strength is Moderate.\n"
     ]
    }
   ],
   "source": [
    "# Get user input for the password\n",
    "password = input(\"Enter your password: \")\n",
    "\n",
    "# Check password strength\n",
    "length = len(password)\n",
    "\n",
    "if length < 6:\n",
    "    strength = \"Weak\"\n",
    "elif length >= 6 or length <= 12:\n",
    "    strength = \"Moderate\"\n",
    "else:\n",
    "    strength = \"Strong\"\n",
    "\n",
    "print(f\"Your password strength is {strength}.\")"
   ]
  },
  {
   "cell_type": "markdown",
   "id": "664dd4eb-2bbf-402d-adbe-e9b140bb3bd0",
   "metadata": {},
   "source": [
    "### **Loops** \n",
    "#### **using (For loop)**"
   ]
  },
  {
   "cell_type": "markdown",
   "id": "826550e5-8df6-4e3d-a687-1226cee394e3",
   "metadata": {},
   "source": [
    "##### **Range Function**\n"
   ]
  },
  {
   "cell_type": "markdown",
   "id": "66108cb9-a67c-48ff-87ec-efda4a9e72c2",
   "metadata": {},
   "source": [
    "Range Function generates number from 0 to till number you need."
   ]
  },
  {
   "cell_type": "markdown",
   "id": "7bad543f-c5d3-41fe-a7c4-da00346e2e65",
   "metadata": {},
   "source": [
    "\r\n",
    "### Syntax of `range()`\r\n",
    "\r\n",
    "The `range()` function can be used in three primary ways, with the following syntax:\r\n",
    "\r\n",
    "1. **`range(stop)`**\r\n",
    "   - Generates numbers from `0` to `stop - 1`.\r\n",
    "\r\n",
    "2. **`range(start, stop)`**\r\n",
    "   - Generates numbers from `start` to `stop - 1`.\r\n",
    "\r\n",
    "3. **`range(start, stop, step)`**\r\n",
    "   - Generates numbers from `start` to `stop - 1`, incrementingM.\r\n",
    "\r\n",
    "Here’s a more detailed look at each form:\r\n",
    "\r\n",
    "1. **`range(stop)`**\r\n",
    "   - **Parameters**:\r\n",
    "     - `stop` (required): The end of the sequence, not included in the output.\r\n",
    "   - **Example**:\r\n",
    "     ```python\r\n",
    "     for i in range(5):\r\n",
    "         print(i)\r\n",
    "     ```\r\n",
    "     **Output**:\r\n",
    "     ```\r\n",
    "     0\r\n",
    "     1\r\n",
    "     2\r\n",
    "     3\r\n",
    "     4\r\n",
    "     ```\r\n",
    "\r\n",
    "2. **`range(start, stop)`**\r\n",
    "   - **Parameters**:\r\n",
    "     - `start` (optional): The beginning of the sequence (inclusive).\r\n",
    "     - `stop` (required): The end of the sequence (exclusive).\r\n",
    "   - **Example**:\r\n",
    "     ```python\r\n",
    "     for i in range(3, 8):\r\n",
    "         print(i)\r\n",
    "     ```\r\n",
    "     **Output**:\r\n",
    "     ```\r\n",
    "     3\r\n",
    "     4\r\n",
    "     5\r\n",
    "     6\r\n",
    "     7\r\n",
    "     ```\r\n",
    "\r\n",
    "3. **`range(start, stop, step)`**\r\n",
    "   - **Parameters**:\r\n",
    "     - `start` (optional): The beginning of the sequence (inclusive).\r\n",
    "     - `stop` (required): The end of the sequence (exclusive).\r\n",
    "     - `step` (optional): The difference between each number in the sequence.\r\n",
    "   - **Example**:\r\n",
    "     ```python\r\n",
    "     for i in range(2, 10, 2):\r\n",
    "         print(i)\r\n",
    "     ```\r\n",
    " enerates numbers from `start` to `stop - 1`.\r\n",
    "- **`range(start, stop, step)`**: Generates numbers from `start` to `stop - 1`, incrementing by `step`.\r\n",
    "\r\n",
    "The `range()` function is versatile and can be used in loops, list comprehensions, and other iterable contexts to generate sequences of numbers efficiently."
   ]
  },
  {
   "cell_type": "code",
   "execution_count": 112,
   "id": "2c206ea7-7f2c-4602-b85f-5d96ebc74431",
   "metadata": {},
   "outputs": [
    {
     "name": "stdout",
     "output_type": "stream",
     "text": [
      "0\n",
      "1\n",
      "2\n",
      "3\n",
      "4\n"
     ]
    }
   ],
   "source": [
    "for i in range(5):\n",
    "    print(i)"
   ]
  },
  {
   "cell_type": "code",
   "execution_count": 114,
   "id": "0c4509ce-3cb1-4136-9bfe-d9ca2645a7e4",
   "metadata": {},
   "outputs": [
    {
     "name": "stdout",
     "output_type": "stream",
     "text": [
      "0\n",
      "1\n",
      "2\n",
      "3\n",
      "4\n",
      "5\n"
     ]
    }
   ],
   "source": [
    "for i in range(0,6):\n",
    "    print(i)"
   ]
  },
  {
   "cell_type": "code",
   "execution_count": 116,
   "id": "46f0da4a-b2a8-418d-89b4-be22cb3c3ffe",
   "metadata": {},
   "outputs": [
    {
     "name": "stdout",
     "output_type": "stream",
     "text": [
      "1\n",
      "2\n",
      "3\n",
      "4\n",
      "5\n",
      "6\n",
      "7\n",
      "8\n",
      "9\n"
     ]
    }
   ],
   "source": [
    "for i in range(1,10,1):\n",
    "    print(i)"
   ]
  },
  {
   "cell_type": "code",
   "execution_count": 118,
   "id": "3f46e30d-8616-47a5-9788-6fc4fd12203a",
   "metadata": {},
   "outputs": [
    {
     "name": "stdout",
     "output_type": "stream",
     "text": [
      "1\n",
      "3\n",
      "5\n",
      "7\n",
      "9\n"
     ]
    }
   ],
   "source": [
    "for i in range(1,10,2):\n",
    "    print(i)"
   ]
  },
  {
   "cell_type": "code",
   "execution_count": 120,
   "id": "de3dc2bc-b479-40d4-97d6-3963fda9aec6",
   "metadata": {},
   "outputs": [
    {
     "name": "stdout",
     "output_type": "stream",
     "text": [
      "10\n",
      "8\n",
      "6\n",
      "4\n",
      "2\n"
     ]
    }
   ],
   "source": [
    "for i in range(10,1,-2):\n",
    "    print(i)"
   ]
  },
  {
   "cell_type": "code",
   "execution_count": 122,
   "id": "eafbff70-69f7-408c-822d-95b1e7e2f309",
   "metadata": {},
   "outputs": [
    {
     "name": "stdout",
     "output_type": "stream",
     "text": [
      "M\n",
      "y\n",
      " \n",
      "n\n",
      "a\n",
      "m\n",
      "e\n",
      " \n",
      "i\n",
      "s\n",
      " \n",
      "A\n",
      "b\n",
      "h\n",
      "i\n",
      "s\n",
      "h\n",
      "e\n",
      "k\n"
     ]
    }
   ],
   "source": [
    "myString = \"My name is Abhishek\"\n",
    "\n",
    "for i in myString:\n",
    "    print(i)"
   ]
  },
  {
   "cell_type": "markdown",
   "id": "cfca2579-977b-40cb-9a20-2054f7d65373",
   "metadata": {},
   "source": [
    "### **Loops** \n",
    "#### **using (while loop)**"
   ]
  },
  {
   "cell_type": "markdown",
   "id": "e015ce4e-88c0-42ee-b645-629cbf73c253",
   "metadata": {},
   "source": [
    "##### A while loop is a control flow statement in programming languages that executes code repeatedly based on a given condition."
   ]
  },
  {
   "cell_type": "markdown",
   "id": "491d7d7d-ad61-4ca0-aa47-afc9c0db48c2",
   "metadata": {},
   "source": [
    "The main difference between a for loop and a while loop is that a for loop is used when the number of iterations is known, while a while loop is used when the number of iterations is unknown"
   ]
  },
  {
   "cell_type": "code",
   "execution_count": 127,
   "id": "3c8cad79-ae00-4a89-9072-1c1f9940381d",
   "metadata": {},
   "outputs": [
    {
     "name": "stdout",
     "output_type": "stream",
     "text": [
      "0\n",
      "1\n",
      "2\n",
      "3\n",
      "4\n"
     ]
    }
   ],
   "source": [
    "count = 0\n",
    "\n",
    "while count<5:\n",
    "    print(count)\n",
    "    count = count+ 1"
   ]
  },
  {
   "cell_type": "markdown",
   "id": "8caeee53-6942-492d-9f7d-941693bb9ff8",
   "metadata": {},
   "source": [
    "### `break statement`: \n",
    "- The break statement is a control statement in Python that allows you to exit a loop prematurely. It can be used with the for and while loops, and when executed, the loop stops executing, and control passes to the statement immediately following the loop."
   ]
  },
  {
   "cell_type": "code",
   "execution_count": 132,
   "id": "c7c8b7d5-cd72-4381-85b0-0129ee57ffdd",
   "metadata": {},
   "outputs": [
    {
     "name": "stdout",
     "output_type": "stream",
     "text": [
      "0\n",
      "1\n",
      "2\n",
      "3\n",
      "4\n"
     ]
    }
   ],
   "source": [
    "for i in range(10):\n",
    "    if i==5:\n",
    "        break\n",
    "    print(i)"
   ]
  },
  {
   "cell_type": "markdown",
   "id": "8fbe6f7c-8c87-4e19-98de-f5819400f283",
   "metadata": {},
   "source": [
    "### `continue statement`: \n",
    "- The continue statement skips the current iteration and continues with the next iteration."
   ]
  },
  {
   "cell_type": "code",
   "execution_count": 136,
   "id": "cbfc61b5-6f08-44f7-97b3-aaf71c940a87",
   "metadata": {},
   "outputs": [
    {
     "name": "stdout",
     "output_type": "stream",
     "text": [
      "1\n",
      "3\n",
      "5\n",
      "7\n",
      "9\n"
     ]
    }
   ],
   "source": [
    "for i in range(10):\n",
    "    if i%2 == 0:\n",
    "        continue\n",
    "    print(i)"
   ]
  },
  {
   "cell_type": "code",
   "execution_count": 138,
   "id": "5ca445eb-e761-470a-a298-12fd68766c56",
   "metadata": {},
   "outputs": [
    {
     "name": "stdout",
     "output_type": "stream",
     "text": [
      "0\n",
      "1\n",
      "2\n",
      "3\n",
      "4\n",
      "6\n",
      "7\n",
      "8\n",
      "9\n"
     ]
    }
   ],
   "source": [
    "for i in range(10):\n",
    "    if i==5:\n",
    "        continue\n",
    "    print(i)"
   ]
  },
  {
   "cell_type": "code",
   "execution_count": null,
   "id": "f31516e9-76f0-4001-a1e2-77206ae8e7bd",
   "metadata": {},
   "outputs": [],
   "source": []
  },
  {
   "cell_type": "code",
   "execution_count": null,
   "id": "9352ad1e-c3ea-4940-afe6-dc9aa0655890",
   "metadata": {},
   "outputs": [],
   "source": []
  },
  {
   "cell_type": "code",
   "execution_count": null,
   "id": "eeacb5d6-2d05-42ed-b635-27044b4c691e",
   "metadata": {},
   "outputs": [],
   "source": []
  },
  {
   "cell_type": "markdown",
   "id": "9a027d2a-e645-4073-81c3-0d0d63847846",
   "metadata": {},
   "source": [
    "## **Control Flow in Python**\n",
    "\n",
    "Control flow statements allow you to dictate the order in which statements are executed in your Python programs. They help you control the execution path based on conditions and repeat actions. The two main categories of control flow in Python are **Conditional Statements** and **Loops**.\n",
    "\n",
    "### **Overview**\n",
    "\n",
    "- **Conditional Statements** (`if`, `elif`, `else`) are used to make decisions based on conditions.\n",
    "- **Loops** (`for`, `while`) allow repetitive execution of code blocks.\n",
    "- **`break`** and **`continue`** can control loop execution flow.\n",
    "\n",
    "These control flow tools enable you to build more complex and functional programs by directing the path of execution and managing repetitive tasks.\n",
    "\n",
    "### **1. Conditional Statements**\n",
    "\n",
    "Conditional statements let you execute certain blocks of code based on whether a condition is true or false. \n",
    "\n",
    "The primary conditional statements in Python are:\n",
    "\n",
    "**1. if**\n",
    "\n",
    "**2. elif**\n",
    "\n",
    "**3. else**\n",
    "\n",
    "#### **`if` Statement**\n",
    "\n",
    "The `if` statement is used to test a condition. If the condition evaluates to `True`, the code block following the `if` statement is executed.\n",
    "\n",
    "**Syntax:**\n",
    "\n",
    "```python\n",
    "if condition:\n",
    "    # code to execute if condition is True\n",
    "```\n",
    "\n",
    "**Example:**\n",
    "\n",
    "```python\n",
    "age = 18\n",
    "if age >= 18:\n",
    "    print(\"You are an Good to go.\")\n",
    "```\n",
    "\n",
    "#### **`elif` Statement**\n",
    "\n",
    "The `elif` (short for \"else if\") statement allows you to check multiple conditions. It follows an `if` statement and is executed only if the preceding `if` (or `elif`) conditions are false.\n",
    "\n",
    "**Syntax:**\n",
    "\n",
    "```python\n",
    "if condition1:\n",
    "    # code to execute if condition1 is True\n",
    "elif condition2:\n",
    "    # code to execute if condition2 is True\n",
    "```\n",
    "\n",
    "**Example:**\n",
    "\n",
    "```python\n",
    "age = 16\n",
    "if age >= 18:\n",
    "    print(\"You are an adult.\")\n",
    "elif age >= 13:\n",
    "    print(\"You are a teenager.\")\n",
    "```\n",
    "\n",
    "#### **`else` Statement**\n",
    "\n",
    "The `else` statement is optional and executes a block of code if none of the preceding conditions are true.\n",
    "\n",
    "**Syntax:**\n",
    "\n",
    "```python\n",
    "if condition:\n",
    "    # code to execute if condition is True\n",
    "else:\n",
    "    # code to execute if condition is False\n",
    "```\n",
    "\n",
    "**Example:**\n",
    "\n",
    "```python\n",
    "age = 10\n",
    "if age >= 18:\n",
    "    print(\"You are an adult.\")\n",
    "else:\n",
    "    print(\"You are not an adult.\")\n",
    "```\n",
    "\n",
    "### **2. Loops**\n",
    "\n",
    "Loops allow you to execute a block of code multiple times. Python has two types of loops: `for` loops and `while` loops.\n",
    "\n",
    "#### **`for` Loop**\n",
    "\n",
    "The `for` loop iterates over a sequence (like a list, tuple, or range) and executes the block of code for each item in the sequence.\n",
    "\n",
    "**Syntax:**\n",
    "\n",
    "```python\n",
    "for variable in sequence:\n",
    "    # code to execute for each item in the sequence\n",
    "```\n",
    "\n",
    "**Example:**\n",
    "\n",
    "```python\n",
    "fruits = [\"apple\", \"banana\", \"cherry\"]\n",
    "for fruit in fruits:\n",
    "    print(fruit)\n",
    "```\n",
    "\n",
    "#### **`while` Loop**\n",
    "\n",
    "The `while` loop repeatedly executes a block of code as long as the specified condition is `True`.\n",
    "\n",
    "**Syntax:**\n",
    "\n",
    "```python\n",
    "while condition:\n",
    "    # code to execute as long as condition is True\n",
    "```\n",
    "\n",
    "**Example:**\n",
    "\n",
    "```python\n",
    "count = 0\n",
    "while count < 5:\n",
    "    print(count)\n",
    "    count += 1\n",
    "```\n",
    "\n",
    "#### **`break` and `continue` Statements**\n",
    "\n",
    "- **`break`**: Exits the nearest enclosing loop prematurely.\n",
    "\n",
    "**Example:**\n",
    "\n",
    "```python\n",
    "for i in range(10):\n",
    "    if i == 5:\n",
    "        break\n",
    "    print(i)\n",
    "```\n",
    "\n",
    "- **`continue`**: Skips the rest of the code inside the current loop iteration and proceeds with the next iteration.\n",
    "\n",
    "**Example:**\n",
    "\n",
    "```python\n",
    "for i in range(10):\n",
    "    if i % 2 == 0:\n",
    "        continue\n",
    "    print(i)\n",
    "```"
   ]
  },
  {
   "cell_type": "markdown",
   "id": "cb86b824-4dab-4119-a333-5be60dd370f3",
   "metadata": {},
   "source": [
    "### Exmples"
   ]
  },
  {
   "cell_type": "code",
   "execution_count": 32,
   "id": "6f42fe2b-d638-4c3a-9e1f-9ae79ac53643",
   "metadata": {},
   "outputs": [],
   "source": [
    "def check_number(num):\n",
    "    if num > 0:\n",
    "        return \"The number is positive.\"\n",
    "    elif num < 0:\n",
    "        return \"The number is negative.\"\n",
    "    else:\n",
    "        return \"The number is zero.\""
   ]
  },
  {
   "cell_type": "code",
   "execution_count": 38,
   "id": "98609c3b-0c42-48d7-94ff-d19f6fa450c8",
   "metadata": {},
   "outputs": [
    {
     "data": {
      "text/plain": [
       "'The number is negative.'"
      ]
     },
     "execution_count": 38,
     "metadata": {},
     "output_type": "execute_result"
    }
   ],
   "source": [
    "check_number(-1)"
   ]
  },
  {
   "cell_type": "markdown",
   "id": "e222cb32-014e-410a-b9c2-dd53be212ee2",
   "metadata": {},
   "source": [
    "### 1. Conditional Statements (`if`, `elif`, `else`)\n",
    "\n",
    "**Example:**\n",
    "```python\n",
    "def check_number(num):\n",
    "    if num > 0:\n",
    "        return \"The number is positive.\"\n",
    "    elif num < 0:\n",
    "        return \"The number is negative.\"\n",
    "    else:\n",
    "        return \"The number is zero.\"\n",
    "```\n",
    "\n",
    "**Exercise:**\n",
    "Write a function `grade_evaluation(score)` that takes a score between 0 and 100 and returns the corresponding grade:\n",
    "- A for 90-100\n",
    "- B for 80-89\n",
    "- C for 70-79\n",
    "- D for 60-69\n",
    "- F for below 60\n",
    "\n",
    "### 2. `for` Loops\n",
    "\n",
    "**Example:**\n",
    "```python\n",
    "def print_numbers(n):\n",
    "    for i in range(n):\n",
    "        print(i)\n",
    "```\n",
    "\n",
    "**Exercise:**\n",
    "Write a function `sum_of_squares(n)` that calculates the sum of squares of the first `n` positive integers. For example, `sum_of_squares(3)` should return `1^2 + 2^2 + 3^2 = 14`.\n",
    "\n",
    "### 3. `while` Loops\n",
    "\n",
    "**Example:**\n",
    "```python\n",
    "def countdown(n):\n",
    "    while n > 0:\n",
    "        print(n)\n",
    "        n -= 1\n",
    "    print(\"Liftoff!\")\n",
    "```\n",
    "\n",
    "**Exercise:**\n",
    "Write a function `factorial(n)` that computes the factorial of a number using a `while` loop. For example, `factorial(5)` should return `120` (5 * 4 * 3 * 2 * 1).\n",
    "\n",
    "### 4. `break` and `continue`\n",
    "\n",
    "**Example:**\n",
    "```python\n",
    "def find_first_even(nums):\n",
    "    for num in nums:\n",
    "        if num % 2 == 0:\n",
    "            return num\n",
    "    return \"No even number found.\"\n",
    "```\n",
    "\n",
    "**Exercise:**\n",
    "Write a function `skip_odds_and_sum(nums)` that takes a list of numbers, skips the odd numbers, and returns the sum of the even numbers. Use the `continue` statement to skip odd numbers and `break` to exit early if the sum exceeds 100.\n",
    "\n",
    "### 5. Nested Loops\n",
    "\n",
    "**Example:**\n",
    "```python\n",
    "def multiplication_table(n):\n",
    "    for i in range(1, n + 1):\n",
    "        for j in range(1, n + 1):\n",
    "            print(f\"{i * j:4}\", end=\"\")\n",
    "        print()\n",
    "```\n",
    "\n",
    "**Exercise:**\n",
    "Write a function `generate_pattern(n)` that generates a right-angled triangle pattern with `n` rows of asterisks. For example, `generate_pattern(4)` should produce:\n",
    "```\n",
    "*\n",
    "**\n",
    "***\n",
    "****\n",
    "```\n",
    "\n",
    "### 6. Combining `if` Statements with Loops\n",
    "\n",
    "**Example:**\n",
    "```python\n",
    "def print_even_numbers(n):\n",
    "    for i in range(n):\n",
    "        if i % 2 == 0:\n",
    "            print(i)\n",
    "```\n",
    "\n",
    "**Exercise:**\n",
    "Write a function `list_of_primes(n)` that returns a list of prime numbers less than `n`. Use a `for` loop to iterate through numbers and an `if` statement to check if each number is prime.\n",
    "\n",
    "### 7. `else` in Loops\n",
    "\n",
    "**Example:**\n",
    "```python\n",
    "def search_item(items, target):\n",
    "    for item in items:\n",
    "        if item == target:\n",
    "            return f\"{target} found!\"\n",
    "    return f\"{target} not found!\"\n",
    "```\n",
    "\n",
    "**Exercise:**\n",
    "Write a function `find_divisor(n)` that finds and returns the first divisor of `n` greater than 1. Use a `for` loop and an `else` block to handle the case where no divisors are found.\n",
    "\n",
    "### 8. Using `break` and `else` Together\n",
    "\n",
    "**Example:**\n",
    "```python\n",
    "def find_prime_in_range(start, end):\n",
    "    for num in range(start, end + 1):\n",
    "        if num > 1:\n",
    "            for i in range(2, num):\n",
    "                if num % i == 0:\n",
    "                    break\n",
    "            else:\n",
    "                return f\"Prime number found: {num}\"\n",
    "    return \"No prime number found.\"\n",
    "```\n",
    "\n",
    "**Exercise:**\n",
    "Write a function `find_first_multiple_of_7(start, end)` that finds the first multiple of 7 in the range from `start` to `end`. If found, return the number; otherwise, return a message indicating that no such number exists.\n",
    "\n"
   ]
  },
  {
   "cell_type": "code",
   "execution_count": null,
   "id": "bc149508-7869-4f65-b19c-e2a5edd506a6",
   "metadata": {},
   "outputs": [],
   "source": []
  },
  {
   "cell_type": "code",
   "execution_count": null,
   "id": "f7e57b03-3d3f-48d0-a1e9-1181f52260ad",
   "metadata": {},
   "outputs": [],
   "source": []
  },
  {
   "cell_type": "code",
   "execution_count": null,
   "id": "cb201419-7018-41f4-ab1f-792f08235687",
   "metadata": {},
   "outputs": [],
   "source": []
  },
  {
   "cell_type": "code",
   "execution_count": null,
   "id": "c7a70dc7-cd7b-4ad9-8dba-1ec687466f31",
   "metadata": {},
   "outputs": [],
   "source": []
  },
  {
   "cell_type": "code",
   "execution_count": null,
   "id": "8bb0c85a-f0e7-46cb-a3d5-54f49e859683",
   "metadata": {},
   "outputs": [],
   "source": []
  }
 ],
 "metadata": {
  "kernelspec": {
   "display_name": "Python 3 (ipykernel)",
   "language": "python",
   "name": "python3"
  },
  "language_info": {
   "codemirror_mode": {
    "name": "ipython",
    "version": 3
   },
   "file_extension": ".py",
   "mimetype": "text/x-python",
   "name": "python",
   "nbconvert_exporter": "python",
   "pygments_lexer": "ipython3",
   "version": "3.12.4"
  }
 },
 "nbformat": 4,
 "nbformat_minor": 5
}
